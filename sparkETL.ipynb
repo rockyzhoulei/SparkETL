{
 "cells": [
  {
   "cell_type": "code",
   "execution_count": 23,
   "metadata": {
    "collapsed": false
   },
   "outputs": [],
   "source": [
    "from pyspark import SparkContext, SparkConf\n",
    "from pyspark.sql import HiveContext\n",
    "from pyspark.sql.types import *"
   ]
  },
  {
   "cell_type": "code",
   "execution_count": 24,
   "metadata": {
    "collapsed": false
   },
   "outputs": [
    {
     "data": {
      "text/plain": [
       "<pyspark.context.SparkContext at 0x7ff1f1cb81d0>"
      ]
     },
     "execution_count": 24,
     "metadata": {},
     "output_type": "execute_result"
    }
   ],
   "source": [
    "sc"
   ]
  },
  {
   "cell_type": "code",
   "execution_count": 25,
   "metadata": {
    "collapsed": false
   },
   "outputs": [],
   "source": [
    "hiveContext = HiveContext(sc)"
   ]
  },
  {
   "cell_type": "code",
   "execution_count": 26,
   "metadata": {
    "collapsed": false
   },
   "outputs": [
    {
     "data": {
      "text/plain": [
       "<pyspark.sql.context.HiveContext at 0x7ff2105e1290>"
      ]
     },
     "execution_count": 26,
     "metadata": {},
     "output_type": "execute_result"
    }
   ],
   "source": [
    "hiveContext"
   ]
  },
  {
   "cell_type": "code",
   "execution_count": 27,
   "metadata": {
    "collapsed": false,
    "scrolled": true
   },
   "outputs": [
    {
     "name": "stdout",
     "output_type": "stream",
     "text": [
      "/home/cloudera/Desktop/sparkETL\r\n"
     ]
    }
   ],
   "source": [
    "! pwd"
   ]
  },
  {
   "cell_type": "code",
   "execution_count": 28,
   "metadata": {
    "collapsed": false,
    "scrolled": true
   },
   "outputs": [],
   "source": [
    "originalDf = hiveContext.read \\\n",
    "        .format(\"com.databricks.spark.csv\") \\\n",
    "        .option(\"header\", \"true\") \\\n",
    "        .option(\"inferschema\", \"true\") \\\n",
    "        .option(\"delimiter\", \",\") \\\n",
    "        .load(\"file:///home/cloudera/Desktop/sparkETL/loan_small.csv\")"
   ]
  },
  {
   "cell_type": "code",
   "execution_count": 29,
   "metadata": {
    "collapsed": false
   },
   "outputs": [
    {
     "data": {
      "text/plain": [
       "pyspark.sql.dataframe.DataFrame"
      ]
     },
     "execution_count": 29,
     "metadata": {},
     "output_type": "execute_result"
    }
   ],
   "source": [
    "type(originalDf)"
   ]
  },
  {
   "cell_type": "code",
   "execution_count": 30,
   "metadata": {
    "collapsed": false
   },
   "outputs": [
    {
     "data": {
      "text/plain": [
       "4999"
      ]
     },
     "execution_count": 30,
     "metadata": {},
     "output_type": "execute_result"
    }
   ],
   "source": [
    "originalDf.count()"
   ]
  },
  {
   "cell_type": "code",
   "execution_count": 10,
   "metadata": {
    "collapsed": false
   },
   "outputs": [],
   "source": [
    "# originalDf.show(5)"
   ]
  },
  {
   "cell_type": "code",
   "execution_count": 16,
   "metadata": {
    "collapsed": false
   },
   "outputs": [
    {
     "name": "stdout",
     "output_type": "stream",
     "text": [
      "root\n",
      " |-- id: integer (nullable = true)\n",
      " |-- member_id: integer (nullable = true)\n",
      " |-- loan_amnt: double (nullable = true)\n",
      " |-- funded_amnt: double (nullable = true)\n",
      " |-- funded_amnt_inv: double (nullable = true)\n",
      " |-- term: string (nullable = true)\n",
      " |-- int_rate: double (nullable = true)\n",
      " |-- installment: double (nullable = true)\n",
      " |-- grade: string (nullable = true)\n",
      " |-- sub_grade: string (nullable = true)\n",
      " |-- emp_title: string (nullable = true)\n",
      " |-- emp_length: string (nullable = true)\n",
      " |-- home_ownership: string (nullable = true)\n",
      " |-- annual_inc: double (nullable = true)\n",
      " |-- verification_status: string (nullable = true)\n",
      " |-- issue_d: string (nullable = true)\n",
      " |-- loan_status: string (nullable = true)\n",
      " |-- pymnt_plan: string (nullable = true)\n",
      " |-- url: string (nullable = true)\n",
      " |-- desc: string (nullable = true)\n",
      " |-- purpose: string (nullable = true)\n",
      " |-- title: string (nullable = true)\n",
      " |-- zip_code: string (nullable = true)\n",
      " |-- addr_state: string (nullable = true)\n",
      " |-- dti: double (nullable = true)\n",
      " |-- delinq_2yrs: double (nullable = true)\n",
      " |-- earliest_cr_line: string (nullable = true)\n",
      " |-- inq_last_6mths: double (nullable = true)\n",
      " |-- mths_since_last_delinq: double (nullable = true)\n",
      " |-- mths_since_last_record: double (nullable = true)\n",
      " |-- open_acc: double (nullable = true)\n",
      " |-- pub_rec: double (nullable = true)\n",
      " |-- revol_bal: double (nullable = true)\n",
      " |-- revol_util: double (nullable = true)\n",
      " |-- total_acc: double (nullable = true)\n",
      " |-- initial_list_status: string (nullable = true)\n",
      " |-- out_prncp: double (nullable = true)\n",
      " |-- out_prncp_inv: double (nullable = true)\n",
      " |-- total_pymnt: double (nullable = true)\n",
      " |-- total_pymnt_inv: double (nullable = true)\n",
      " |-- total_rec_prncp: double (nullable = true)\n",
      " |-- total_rec_int: double (nullable = true)\n",
      " |-- total_rec_late_fee: double (nullable = true)\n",
      " |-- recoveries: double (nullable = true)\n",
      " |-- collection_recovery_fee: double (nullable = true)\n",
      " |-- last_pymnt_d: string (nullable = true)\n",
      " |-- last_pymnt_amnt: double (nullable = true)\n",
      " |-- next_pymnt_d: string (nullable = true)\n",
      " |-- last_credit_pull_d: string (nullable = true)\n",
      " |-- collections_12_mths_ex_med: double (nullable = true)\n",
      " |-- mths_since_last_major_derog: string (nullable = true)\n",
      " |-- policy_code: double (nullable = true)\n",
      " |-- application_type: string (nullable = true)\n",
      " |-- annual_inc_joint: string (nullable = true)\n",
      " |-- dti_joint: string (nullable = true)\n",
      " |-- verification_status_joint: string (nullable = true)\n",
      " |-- acc_now_delinq: double (nullable = true)\n",
      " |-- tot_coll_amt: string (nullable = true)\n",
      " |-- tot_cur_bal: string (nullable = true)\n",
      " |-- open_acc_6m: string (nullable = true)\n",
      " |-- open_il_6m: string (nullable = true)\n",
      " |-- open_il_12m: string (nullable = true)\n",
      " |-- open_il_24m: string (nullable = true)\n",
      " |-- mths_since_rcnt_il: string (nullable = true)\n",
      " |-- total_bal_il: string (nullable = true)\n",
      " |-- il_util: string (nullable = true)\n",
      " |-- open_rv_12m: string (nullable = true)\n",
      " |-- open_rv_24m: string (nullable = true)\n",
      " |-- max_bal_bc: string (nullable = true)\n",
      " |-- all_util: string (nullable = true)\n",
      " |-- total_rev_hi_lim: string (nullable = true)\n",
      " |-- inq_fi: string (nullable = true)\n",
      " |-- total_cu_tl: string (nullable = true)\n",
      " |-- inq_last_12m: string (nullable = true)\n",
      "\n"
     ]
    }
   ],
   "source": [
    "originalDf.printSchema()"
   ]
  },
  {
   "cell_type": "code",
   "execution_count": 31,
   "metadata": {
    "collapsed": false
   },
   "outputs": [],
   "source": [
    "# originalDf.printSchema()\n",
    "selectDf = originalDf.select(\n",
    "    originalDf.id.cast('string'),\n",
    "    originalDf.member_id.cast('string'),\n",
    "    originalDf.loan_amnt.cast('float'),\n",
    "    originalDf.funded_amnt.cast('float'),\n",
    "    originalDf.term.cast('string'),\n",
    "    originalDf.int_rate.cast('float'),\n",
    "    originalDf.home_ownership.cast('string'),\n",
    "    originalDf.annual_inc.cast('float'),\n",
    "    originalDf.issue_d.cast('string'),\n",
    "    originalDf.zip_code.cast('string'),\n",
    "    originalDf.addr_state.cast('string')    \n",
    ")"
   ]
  },
  {
   "cell_type": "code",
   "execution_count": 32,
   "metadata": {
    "collapsed": false
   },
   "outputs": [
    {
     "name": "stdout",
     "output_type": "stream",
     "text": [
      "root\n",
      " |-- id: string (nullable = true)\n",
      " |-- member_id: string (nullable = true)\n",
      " |-- loan_amnt: float (nullable = true)\n",
      " |-- funded_amnt: float (nullable = true)\n",
      " |-- term: string (nullable = true)\n",
      " |-- int_rate: float (nullable = true)\n",
      " |-- home_ownership: string (nullable = true)\n",
      " |-- annual_inc: float (nullable = true)\n",
      " |-- issue_d: string (nullable = true)\n",
      " |-- zip_code: string (nullable = true)\n",
      " |-- addr_state: string (nullable = true)\n",
      "\n"
     ]
    }
   ],
   "source": [
    "selectDf.printSchema()"
   ]
  },
  {
   "cell_type": "code",
   "execution_count": 33,
   "metadata": {
    "collapsed": false
   },
   "outputs": [
    {
     "data": {
      "text/plain": [
       "4999"
      ]
     },
     "execution_count": 33,
     "metadata": {},
     "output_type": "execute_result"
    }
   ],
   "source": [
    "selectDf.count()"
   ]
  },
  {
   "cell_type": "code",
   "execution_count": 34,
   "metadata": {
    "collapsed": false,
    "scrolled": true
   },
   "outputs": [
    {
     "data": {
      "text/plain": [
       "[Row(id=u'1077501', member_id=u'1296599', loan_amnt=5000.0, funded_amnt=5000.0, term=u' 36 months', int_rate=10.649999618530273, home_ownership=u'RENT', annual_inc=24000.0, issue_d=u'Dec-2011', zip_code=u'860xx', addr_state=u'AZ'),\n",
       " Row(id=u'1077430', member_id=u'1314167', loan_amnt=2500.0, funded_amnt=2500.0, term=u' 60 months', int_rate=15.270000457763672, home_ownership=u'RENT', annual_inc=30000.0, issue_d=u'Dec-2011', zip_code=u'309xx', addr_state=u'GA'),\n",
       " Row(id=u'1077175', member_id=u'1313524', loan_amnt=2400.0, funded_amnt=2400.0, term=u' 36 months', int_rate=15.960000038146973, home_ownership=u'RENT', annual_inc=12252.0, issue_d=u'Dec-2011', zip_code=u'606xx', addr_state=u'IL'),\n",
       " Row(id=u'1076863', member_id=u'1277178', loan_amnt=10000.0, funded_amnt=10000.0, term=u' 36 months', int_rate=13.489999771118164, home_ownership=u'RENT', annual_inc=49200.0, issue_d=u'Dec-2011', zip_code=u'917xx', addr_state=u'CA'),\n",
       " Row(id=u'1075358', member_id=u'1311748', loan_amnt=3000.0, funded_amnt=3000.0, term=u' 60 months', int_rate=12.6899995803833, home_ownership=u'RENT', annual_inc=80000.0, issue_d=u'Dec-2011', zip_code=u'972xx', addr_state=u'OR')]"
      ]
     },
     "execution_count": 34,
     "metadata": {},
     "output_type": "execute_result"
    }
   ],
   "source": [
    "selectDf.head(5)"
   ]
  },
  {
   "cell_type": "code",
   "execution_count": 35,
   "metadata": {
    "collapsed": false
   },
   "outputs": [
    {
     "data": {
      "text/plain": [
       "[Row(term=u' 36 months'),\n",
       " Row(term=u' 60 months'),\n",
       " Row(term=u' 36 months'),\n",
       " Row(term=u' 36 months'),\n",
       " Row(term=u' 60 months')]"
      ]
     },
     "execution_count": 35,
     "metadata": {},
     "output_type": "execute_result"
    }
   ],
   "source": [
    "originalDf.select('term').head(5)"
   ]
  },
  {
   "cell_type": "code",
   "execution_count": 36,
   "metadata": {
    "collapsed": true
   },
   "outputs": [],
   "source": [
    "hdfsBasePath = \"/user/loan/\""
   ]
  },
  {
   "cell_type": "code",
   "execution_count": 37,
   "metadata": {
    "collapsed": false
   },
   "outputs": [],
   "source": [
    "hiveColumns = \"\"\"\n",
    "id STRING,\n",
    "member_id STRING,\n",
    "loan_amnt FLOAT,\n",
    "funded_amnt FLOAT,\n",
    "term STRING,\n",
    "int_rate FLOAT,\n",
    "home_ownership STRING,\n",
    "annual_inc FLOAT,\n",
    "zip_code STRING,\n",
    "addr_state STRING\n",
    "\"\"\"\n",
    "\n",
    "hiveDb = 'test_db'\n",
    "hiveTb = 'loan'\n"
   ]
  },
  {
   "cell_type": "code",
   "execution_count": 38,
   "metadata": {
    "collapsed": false
   },
   "outputs": [
    {
     "data": {
      "text/plain": [
       "'\\nid STRING,\\nmember_id STRING,\\nloan_amnt FLOAT,\\nfunded_amnt FLOAT,\\nterm STRING,\\nint_rate FLOAT,\\nhome_ownership STRING,\\nannual_inc FLOAT,\\nzip_code STRING,\\naddr_state STRING\\n'"
      ]
     },
     "execution_count": 38,
     "metadata": {},
     "output_type": "execute_result"
    }
   ],
   "source": [
    "hiveColumns"
   ]
  },
  {
   "cell_type": "code",
   "execution_count": 39,
   "metadata": {
    "collapsed": true
   },
   "outputs": [],
   "source": [
    "createHiveDb = \"\"\"\n",
    "    CREATE DATABASE IF NOT EXISTS {0}\n",
    "\"\"\".format(hiveDb)"
   ]
  },
  {
   "cell_type": "code",
   "execution_count": 147,
   "metadata": {
    "collapsed": false
   },
   "outputs": [],
   "source": [
    "# createHiveDb = \"\"\"\n",
    "#     CREATE DATABASE IF NOT EXISTS %s\n",
    "# \"\"\" % hiveDb"
   ]
  },
  {
   "cell_type": "code",
   "execution_count": 40,
   "metadata": {
    "collapsed": false
   },
   "outputs": [],
   "source": [
    "createHiveTb = \"\"\"\n",
    "    CREATE EXTERNAL TABLE IF NOT EXISTS {0}.{1}\n",
    "    (%s)\n",
    "    PARTITIONED BY (issue_d STRING)\n",
    "    ROW FORMAT DELIMITED\n",
    "    FIELDS TERMINATED BY ','\n",
    "    STORED AS PARQUET\n",
    "    LOCATION '{2}'\n",
    "\"\"\".format(hiveDb, hiveTb, hdfsBasePath) % hiveColumns"
   ]
  },
  {
   "cell_type": "code",
   "execution_count": 41,
   "metadata": {
    "collapsed": false,
    "scrolled": true
   },
   "outputs": [
    {
     "name": "stdout",
     "output_type": "stream",
     "text": [
      "\n",
      "    CREATE EXTERNAL TABLE IF NOT EXISTS test_db.loan\n",
      "    (\n",
      "id STRING,\n",
      "member_id STRING,\n",
      "loan_amnt FLOAT,\n",
      "funded_amnt FLOAT,\n",
      "term STRING,\n",
      "int_rate FLOAT,\n",
      "home_ownership STRING,\n",
      "annual_inc FLOAT,\n",
      "zip_code STRING,\n",
      "addr_state STRING\n",
      ")\n",
      "    PARTITIONED BY (issue_d STRING)\n",
      "    ROW FORMAT DELIMITED\n",
      "    FIELDS TERMINATED BY ','\n",
      "    STORED AS PARQUET\n",
      "    LOCATION '/user/loan/'\n",
      "\n"
     ]
    }
   ],
   "source": [
    "print createHiveTb"
   ]
  },
  {
   "cell_type": "code",
   "execution_count": 42,
   "metadata": {
    "collapsed": false
   },
   "outputs": [],
   "source": [
    "createHivePartition = \"\"\"\n",
    "    ALTER TABLE {0}.{1} ADD IF NOT EXISTS\n",
    "\"\"\".format(hiveDb, hiveTb)\n",
    "\n",
    "partitions = selectDf.select('issue_d').distinct().collect()\n",
    "\n",
    "for partition in partitions:\n",
    "    for key in partition.asDict():\n",
    "        pName = key\n",
    "        pValue = partition.asDict()[key]\n",
    "        createHivePartition += (\"PARTITION (\" + pName + \" = \" + \"'%s'\" + \") LOCATION \" + \\\n",
    "                                \"'\" + hdfsBasePath + pName + \"=\" + pValue + \"'\\n\") % pValue\n"
   ]
  },
  {
   "cell_type": "code",
   "execution_count": 43,
   "metadata": {
    "collapsed": false
   },
   "outputs": [
    {
     "name": "stdout",
     "output_type": "stream",
     "text": [
      "\n",
      "    ALTER TABLE test_db.loan ADD IF NOT EXISTS\n",
      "PARTITION (issue_d = 'Dec-2011') LOCATION '/user/loan/issue_d=Dec-2011'\n",
      "PARTITION (issue_d = 'Nov-2011') LOCATION '/user/loan/issue_d=Nov-2011'\n",
      "PARTITION (issue_d = 'Oct-2011') LOCATION '/user/loan/issue_d=Oct-2011'\n",
      "\n"
     ]
    }
   ],
   "source": [
    "print createHivePartition"
   ]
  },
  {
   "cell_type": "code",
   "execution_count": 44,
   "metadata": {
    "collapsed": false
   },
   "outputs": [
    {
     "data": {
      "text/plain": [
       "4999"
      ]
     },
     "execution_count": 44,
     "metadata": {},
     "output_type": "execute_result"
    }
   ],
   "source": [
    "selectDf.count()"
   ]
  },
  {
   "cell_type": "code",
   "execution_count": 45,
   "metadata": {
    "collapsed": false
   },
   "outputs": [
    {
     "data": {
      "text/plain": [
       "DataFrame[result: string]"
      ]
     },
     "execution_count": 45,
     "metadata": {},
     "output_type": "execute_result"
    }
   ],
   "source": [
    "hiveContext.sql(createHiveDb)"
   ]
  },
  {
   "cell_type": "code",
   "execution_count": 46,
   "metadata": {
    "collapsed": false
   },
   "outputs": [
    {
     "data": {
      "text/plain": [
       "DataFrame[result: string]"
      ]
     },
     "execution_count": 46,
     "metadata": {},
     "output_type": "execute_result"
    }
   ],
   "source": [
    "hiveContext.sql(createHiveTb)"
   ]
  },
  {
   "cell_type": "code",
   "execution_count": 47,
   "metadata": {
    "collapsed": false
   },
   "outputs": [
    {
     "data": {
      "text/plain": [
       "DataFrame[result: string]"
      ]
     },
     "execution_count": 47,
     "metadata": {},
     "output_type": "execute_result"
    }
   ],
   "source": [
    "hiveContext.sql(createHivePartition)"
   ]
  },
  {
   "cell_type": "code",
   "execution_count": 48,
   "metadata": {
    "collapsed": false
   },
   "outputs": [],
   "source": [
    "selectDf.write.partitionBy(\"issue_d\").mode(\"overwrite\").parquet(hdfsBasePath)"
   ]
  },
  {
   "cell_type": "code",
   "execution_count": 49,
   "metadata": {
    "collapsed": false,
    "scrolled": true
   },
   "outputs": [
    {
     "name": "stdout",
     "output_type": "stream",
     "text": [
      "+-------+---------+---------+-----------+----------+--------+--------------+----------+--------+--------+----------+\n",
      "|     id|member_id|loan_amnt|funded_amnt|      term|int_rate|home_ownership|annual_inc| issue_d|zip_code|addr_state|\n",
      "+-------+---------+---------+-----------+----------+--------+--------------+----------+--------+--------+----------+\n",
      "|1077501|  1296599|   5000.0|     5000.0| 36 months|   10.65|          RENT|   24000.0|Dec-2011|   860xx|        AZ|\n",
      "|1077430|  1314167|   2500.0|     2500.0| 60 months|   15.27|          RENT|   30000.0|Dec-2011|   309xx|        GA|\n",
      "|1077175|  1313524|   2400.0|     2400.0| 36 months|   15.96|          RENT|   12252.0|Dec-2011|   606xx|        IL|\n",
      "|1076863|  1277178|  10000.0|    10000.0| 36 months|   13.49|          RENT|   49200.0|Dec-2011|   917xx|        CA|\n",
      "|1075358|  1311748|   3000.0|     3000.0| 60 months|   12.69|          RENT|   80000.0|Dec-2011|   972xx|        OR|\n",
      "|1075269|  1311441|   5000.0|     5000.0| 36 months|     7.9|          RENT|   36000.0|Dec-2011|   852xx|        AZ|\n",
      "|1069639|  1304742|   7000.0|     7000.0| 60 months|   15.96|          RENT|   47004.0|Dec-2011|   280xx|        NC|\n",
      "+-------+---------+---------+-----------+----------+--------+--------------+----------+--------+--------+----------+\n",
      "only showing top 7 rows\n",
      "\n"
     ]
    }
   ],
   "source": [
    "selectDf.show(7)"
   ]
  },
  {
   "cell_type": "code",
   "execution_count": 52,
   "metadata": {
    "collapsed": true
   },
   "outputs": [],
   "source": [
    "jdbcUrl = \"jdbc:mysql://localhost/test\"\n",
    "properties = {\n",
    "    \"user\": \"root\",\n",
    "    \"password\": \"123\"\n",
    "}"
   ]
  },
  {
   "cell_type": "code",
   "execution_count": 53,
   "metadata": {
    "collapsed": false
   },
   "outputs": [],
   "source": [
    "selectDf.write.jdbc(url=jdbcUrl, table=\"loan\", mode=\"overwrite\", properties=properties)"
   ]
  },
  {
   "cell_type": "code",
   "execution_count": null,
   "metadata": {
    "collapsed": true
   },
   "outputs": [],
   "source": []
  }
 ],
 "metadata": {
  "kernelspec": {
   "display_name": "Python 2",
   "language": "python",
   "name": "python2"
  },
  "language_info": {
   "codemirror_mode": {
    "name": "ipython",
    "version": 2
   },
   "file_extension": ".py",
   "mimetype": "text/x-python",
   "name": "python",
   "nbconvert_exporter": "python",
   "pygments_lexer": "ipython2",
   "version": "2.7.13"
  }
 },
 "nbformat": 4,
 "nbformat_minor": 0
}
